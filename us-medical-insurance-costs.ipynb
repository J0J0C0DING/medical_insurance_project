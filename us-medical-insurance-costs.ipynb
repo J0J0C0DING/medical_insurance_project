{
 "cells": [
  {
   "cell_type": "markdown",
   "metadata": {},
   "source": [
    "# U.S. Medical Insurance Costs"
   ]
  },
  {
   "cell_type": "code",
   "execution_count": 2,
   "metadata": {},
   "outputs": [
    {
     "name": "stdout",
     "output_type": "stream",
     "text": [
      "1338 \n",
      " {'age': '19', 'sex': 'female', 'bmi': '27.9', 'children': '0', 'smoker': 'yes', 'region': 'southwest', 'charges': '16884.924'} \n",
      " {'age': '37', 'sex': 'male', 'bmi': '24.32', 'children': '2', 'smoker': 'no', 'region': 'northwest', 'charges': '6198.7518'}\n"
     ]
    }
   ],
   "source": [
    "import csv\n",
    "\n",
    "insurance_array = list()\n",
    "\n",
    "# Open and save data from insurance.csv to Python variable\n",
    "with open(\"insurance.csv\", newline='') as insurance_csv:\n",
    "  insurance_data = csv.DictReader(insurance_csv)\n",
    "  for row in insurance_data:\n",
    "    insurance_array.append(row)\n",
    "\n",
    "print(len(insurance_array), \"\\n\", insurance_array[0], \"\\n\", insurance_array[1200])\n",
    "    \n"
   ]
  },
  {
   "attachments": {},
   "cell_type": "markdown",
   "metadata": {},
   "source": [
    "### Make sorted dictionaries (sex, region, age, smoker, children)"
   ]
  },
  {
   "cell_type": "code",
   "execution_count": 12,
   "metadata": {},
   "outputs": [],
   "source": [
    "def the_sort_machine(dataset, category):\n",
    "    # dictionary to be returned\n",
    "    new_dictionary = dict()\n",
    "\n",
    "    #Take each datapoint in the data set and add to dictionary based on category passed\n",
    "    for dp in dataset:\n",
    "        if dp[category] not in new_dictionary:\n",
    "            new_dictionary[dp[category]] = [dp]\n",
    "        else:\n",
    "            new_dictionary[dp[category]].append(dp)\n",
    "    return new_dictionary\n",
    "\n",
    "sort_by_sex = the_sort_machine(insurance_array, 'sex')\n",
    "# print(sort_by_sex['male'])\n",
    "\n",
    "sort_by_region = the_sort_machine(insurance_array, 'region')\n",
    "# print(sort_by_region['southeast'])\n",
    "\n",
    "sort_by_age = the_sort_machine(insurance_array, 'age')\n",
    "# print(sort_by_age['19'])\n",
    "\n",
    "sort_by_smoker = the_sort_machine(insurance_array, 'smoker')\n",
    "# print(sort_by_smoker['yes'])\n",
    "\n",
    "sort_by_children = the_sort_machine(insurance_array, 'children')\n",
    "# print(sort_by_children['4'])"
   ]
  },
  {
   "attachments": {},
   "cell_type": "markdown",
   "metadata": {},
   "source": [
    "### Average BMI of Female and Male persons in dataset"
   ]
  },
  {
   "cell_type": "code",
   "execution_count": 4,
   "metadata": {},
   "outputs": [
    {
     "name": "stdout",
     "output_type": "stream",
     "text": [
      "Average Female BMI: 30.3777\n",
      "Average Male BMI: 30.9431\n"
     ]
    }
   ],
   "source": [
    "#Find average BMI for males and females\n",
    "def average_bmi(dataset):\n",
    "    total_bmi = 0\n",
    "    total_datapoints = len(dataset)\n",
    "\n",
    "    for p in dataset:\n",
    "        total_bmi += float(p['bmi'])\n",
    "    \n",
    "    average_bmi = total_bmi / total_datapoints\n",
    "    \n",
    "    return round(average_bmi,4)\n",
    "\n",
    "avg_female_bmi = average_bmi(sort_by_sex['female'])\n",
    "avg_male_bmi = average_bmi(sort_by_sex['male'])\n",
    "\n",
    "print(f\"Average Female BMI: {avg_female_bmi}\\nAverage Male BMI: {avg_male_bmi}\")\n"
   ]
  },
  {
   "attachments": {},
   "cell_type": "markdown",
   "metadata": {},
   "source": [
    "### Average Cost: Sex, Region, Age, # of Children, Smoker Status"
   ]
  },
  {
   "cell_type": "code",
   "execution_count": 5,
   "metadata": {},
   "outputs": [
    {
     "name": "stdout",
     "output_type": "stream",
     "text": [
      "{'female': 12569.58, 'male': 13956.75}\n",
      "{'southwest': 12346.94, 'southeast': 14735.41, 'northwest': 12417.58, 'northeast': 13406.38}\n",
      "10012.93\n",
      "{'0': 12365.98, '1': 12731.17, '3': 15355.32, '2': 15073.56, '5': 8786.04, '4': 13850.66}\n",
      "{'yes': 32050.23, 'no': 8434.27}\n"
     ]
    }
   ],
   "source": [
    "def average_cost_by_category(dataset):\n",
    "    averages_dictionary = dict()\n",
    "\n",
    "    for d in dataset:\n",
    "        total_cost = 0\n",
    "        total_datapoints = len(dataset[d])\n",
    "\n",
    "        for dp in dataset[d]:\n",
    "            total_cost += float(dp['charges'])\n",
    "        \n",
    "        averages_dictionary[d] = round(total_cost / total_datapoints, 2)\n",
    "    \n",
    "    return averages_dictionary\n",
    "\n",
    "cost_by_sex = average_cost_by_category(sort_by_sex)\n",
    "print(cost_by_sex)\n",
    "cost_by_region = average_cost_by_category(sort_by_region)\n",
    "print(cost_by_region)\n",
    "cost_by_age = average_cost_by_category(sort_by_age)\n",
    "print(cost_by_age['22'])\n",
    "cost_by_children = average_cost_by_category(sort_by_children)\n",
    "print(cost_by_children)\n",
    "cost_by_smoker = average_cost_by_category(sort_by_smoker)\n",
    "print(cost_by_smoker)"
   ]
  },
  {
   "attachments": {},
   "cell_type": "markdown",
   "metadata": {},
   "source": [
    "Here we can see that:\n",
    "  1. Females average about $1300 less in insurance charges\n",
    "  2. The Southeast region has the highest average insurance charges\n",
    "  3. People age 22 average insurance charges are $10,012.93\n",
    "  4. Those who smoke have almost 4x the amount of insurance charges than those who do not"
   ]
  },
  {
   "attachments": {},
   "cell_type": "markdown",
   "metadata": {},
   "source": [
    "## Sort into BMI Groups\n",
    "Using information from the CDC[^1], there are four ranges they use to determine weight status when looking at BMIs. They are as followed:\n",
    "  1. Underweight range: BMI < 18.5\n",
    "  2. Healthy Weight range: BMI >= 18.5 and BMI <= 24.9\n",
    "  3. Overweight range: BMI >= 25.0 and BMI <= 29.9\n",
    "  4. Obese range: BMI >= 30.0\n",
    "\n",
    "These are for categories that the data is sorted, the number corresponding to the weight range\n",
    "\n",
    "[^1]:https://www.cdc.gov/healthyweight/assessing/index.html"
   ]
  },
  {
   "cell_type": "code",
   "execution_count": 6,
   "metadata": {},
   "outputs": [
    {
     "name": "stdout",
     "output_type": "stream",
     "text": [
      "{'underweight': 8852.2, 'healthy weight': 10379.5, 'overweight': 11000.08, 'obese': 15552.34}\n",
      "# of underweight in dataset: 20\n",
      "# of healthy weight in dataset: 222\n",
      "# of overweight in dataset: 389\n",
      "# of obese in dataset: 707\n"
     ]
    }
   ],
   "source": [
    "# The value associated to each group is the upper range of the group\n",
    "bmi_classification = {\n",
    "    1: 18.5,\n",
    "    2: 24.9,\n",
    "    3: 29.9,\n",
    "    4: 30.0\n",
    "}\n",
    "\n",
    "# Dictionary to hold sorted records\n",
    "bmi_groups = {\"underweight\":[], \"healthy weight\":[], \"overweight\":[], \"obese\":[]}\n",
    "\n",
    "\n",
    "for row in insurance_array:\n",
    "    bmi = round(float(row['bmi']), 1)\n",
    "    if bmi < bmi_classification[1]:\n",
    "        bmi_groups[\"underweight\"].append(row)\n",
    "    elif bmi >= bmi_classification[1] and bmi <= bmi_classification[2]:\n",
    "        bmi_groups[\"healthy weight\"].append(row)\n",
    "    elif bmi >= bmi_classification[2] and bmi <= bmi_classification[3]:\n",
    "        bmi_groups[\"overweight\"].append(row)\n",
    "    elif bmi >= bmi_classification[4]:\n",
    "        bmi_groups[\"obese\"].append(row)\n",
    "\n",
    "average_cost_by_bmi_class = average_cost_by_category(bmi_groups)\n",
    "print(average_cost_by_bmi_class) \n",
    "\n",
    "for g in bmi_groups:\n",
    "    num = len(bmi_groups[g])\n",
    "\n",
    "    print(f\"# of {g} in dataset: {num}\")"
   ]
  },
  {
   "attachments": {},
   "cell_type": "markdown",
   "metadata": {},
   "source": [
    "Now lets take a deeper look into these numbers. While we already know smoking correlates to higher insurance charges, I want to see how being a smoker compares to non-smokers in each bmi group."
   ]
  },
  {
   "cell_type": "code",
   "execution_count": 7,
   "metadata": {},
   "outputs": [
    {
     "name": "stdout",
     "output_type": "stream",
     "text": [
      "Comparing smoker status and BMI grouping to average insurance charges:\n",
      "Underweight \n",
      "Smoker: 18809.82 | Non-smoker: 5532.99\n",
      "Healthy weight \n",
      "Smoker: 19942.22 | Non-smoker: 7599.64\n",
      "Overweight \n",
      "Smoker: 22495.87 | Non-smoker: 8299.48\n",
      "Obese \n",
      "Smoker: 41557.99 | Non-smoker: 8842.69\n"
     ]
    }
   ],
   "source": [
    "smoker_dict = dict()\n",
    "\n",
    "for g in bmi_groups:\n",
    "    smoker_cost = 0\n",
    "    non_smoker_cost = 0\n",
    "    total_smoker = 0\n",
    "    total_non_smoker = 0\n",
    "\n",
    "    for row in bmi_groups[g]:\n",
    "        if row['smoker'] == 'yes':\n",
    "            total_smoker += 1\n",
    "            smoker_cost += float(row['charges'])\n",
    "        elif row['smoker'] == 'no':\n",
    "            total_non_smoker += 1\n",
    "            non_smoker_cost += float(row['charges'])\n",
    "    \n",
    "    average_non_smoker = round((non_smoker_cost / total_non_smoker), 2)\n",
    "    average_smoker = round((smoker_cost / total_smoker), 2)\n",
    "    smoker_dict[g] = {'yes': average_smoker, 'no': average_non_smoker}\n",
    "\n",
    "print(\"Comparing smoker status and BMI grouping to average insurance charges:\")\n",
    "for r in smoker_dict:\n",
    "    smoking_cost = smoker_dict[r]['yes']\n",
    "    non_smoking_cost = smoker_dict[r]['no']\n",
    "    \n",
    "    print(r.capitalize(), f\"\\nSmoker: {smoking_cost} | Non-smoker: {non_smoking_cost}\")\n",
    "    \n",
    "    \n"
   ]
  },
  {
   "attachments": {},
   "cell_type": "markdown",
   "metadata": {},
   "source": [
    "### Average Smoking vs Non-Smoking costs by Category\n",
    "I want to take make a function from the BMI category to Average smoker cost to check the averages against age, sex, region, and child count"
   ]
  },
  {
   "cell_type": "code",
   "execution_count": 8,
   "metadata": {},
   "outputs": [
    {
     "name": "stdout",
     "output_type": "stream",
     "text": [
      "{'female': {'yes': 30679.0, 'no': 8762.3}, 'male': {'yes': 33042.01, 'no': 8087.2}}\n",
      "{'yes': 34845.0, 'no': 8032.22}\n",
      "{'0': {'yes': 31341.36, 'no': 7611.79}, '1': {'yes': 31822.65, 'no': 8303.11}, '3': {'yes': 32724.92, 'no': 9614.52}, '2': {'yes': 33844.24, 'no': 9493.09}, '5': {'yes': 19023.26, 'no': 8183.85}, '4': {'yes': 26532.28, 'no': 12121.34}}\n",
      "{'yes': 16650.61, 'no': 3813.53}\n"
     ]
    }
   ],
   "source": [
    "def average_smoking_cost_by_category(dataset):\n",
    "  smoker_dict = dict()\n",
    "\n",
    "  for g in dataset:\n",
    "      \n",
    "      smoker_cost = 0\n",
    "      non_smoker_cost = 0\n",
    "      total_smoker = 0\n",
    "      total_non_smoker = 0\n",
    "\n",
    "      for row in dataset[g]:\n",
    "          \n",
    "          if row['smoker'] == 'yes':\n",
    "              total_smoker += 1\n",
    "              smoker_cost += float(row['charges'])\n",
    "          elif row['smoker'] == 'no':\n",
    "              total_non_smoker += 1\n",
    "              non_smoker_cost += float(row['charges'])\n",
    "      \n",
    "      average_non_smoker = round((non_smoker_cost / total_non_smoker), 2)\n",
    "      average_smoker = round((smoker_cost / total_smoker), 2)\n",
    "      smoker_dict[g] = {'yes': average_smoker, 'no': average_non_smoker}\n",
    "\n",
    "  return smoker_dict\n",
    "\n",
    "smoker_sex = average_smoking_cost_by_category(sort_by_sex)\n",
    "print(smoker_sex)\n",
    "\n",
    "smoker_region = average_smoking_cost_by_category(sort_by_region)\n",
    "print(smoker_region['southeast'])\n",
    "\n",
    "smoker_children = average_smoking_cost_by_category(sort_by_children)\n",
    "print(smoker_children)\n",
    "\n",
    "smoker_age = average_smoking_cost_by_category(sort_by_age)\n",
    "print(smoker_age['21'])"
   ]
  }
 ],
 "metadata": {
  "kernelspec": {
   "display_name": "Python 3",
   "language": "python",
   "name": "python3"
  },
  "language_info": {
   "codemirror_mode": {
    "name": "ipython",
    "version": 3
   },
   "file_extension": ".py",
   "mimetype": "text/x-python",
   "name": "python",
   "nbconvert_exporter": "python",
   "pygments_lexer": "ipython3",
   "version": "3.11.0"
  }
 },
 "nbformat": 4,
 "nbformat_minor": 4
}
